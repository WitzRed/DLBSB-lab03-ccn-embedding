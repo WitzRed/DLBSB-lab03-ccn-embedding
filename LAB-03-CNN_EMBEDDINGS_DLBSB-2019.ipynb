{
 "cells": [
  {
   "cell_type": "code",
   "execution_count": 1,
   "metadata": {},
   "outputs": [],
   "source": [
    "%reload_ext autoreload\n",
    "%autoreload 2\n",
    "%matplotlib inline\n",
    "\n",
    "import matplotlib.pyplot as plt"
   ]
  },
  {
   "cell_type": "markdown",
   "metadata": {},
   "source": [
    "# Redes Convolutivas: Visão e Dados Tabulares"
   ]
  },
  {
   "cell_type": "markdown",
   "metadata": {},
   "source": [
    "#### Instrutores:\n",
    "    Welton Rodrigo e Witenberg Souza"
   ]
  },
  {
   "cell_type": "markdown",
   "metadata": {},
   "source": [
    "###### Bem-vindos ao Tutorial de Construção de uma Rede Neuronal Convolutiva.\n",
    "\n",
    "Este tutorial está divido em duas partes:\n",
    "\n",
    "1- Contruir uma rede Convulitiva (CNN) e treiná-la em conjunto de imagens de vestuário.\n",
    "\n",
    "2- Adquirir boas práticas no uso de matrizes de Embeddings."
   ]
  },
  {
   "cell_type": "markdown",
   "metadata": {},
   "source": [
    "---- PASSO-A-PASSO  ----"
   ]
  },
  {
   "cell_type": "markdown",
   "metadata": {},
   "source": [
    "###### 0-  Importar Bibliotecas"
   ]
  },
  {
   "cell_type": "markdown",
   "metadata": {},
   "source": [
    "######  Pré-requisitos para o tutorial de hoje:\n",
    "1 - graphviz - costruir grafos visuais (Pré-requisito para o hiddenlayer)\n",
    "\n",
    "2 - Hiddenlayer: Visualizar Nossa rede em forma de grafo"
   ]
  },
  {
   "cell_type": "code",
   "execution_count": 26,
   "metadata": {},
   "outputs": [],
   "source": [
    "!sudo conda install graphviz python-graphviz -y \n",
    "#!sudo pip install hiddenlayer"
   ]
  },
  {
   "cell_type": "code",
   "execution_count": 2,
   "metadata": {},
   "outputs": [],
   "source": [
    "# Apoio\n",
    "import torch\n",
    "from torch import randn\n",
    "import torchvision.models as torch_models\n",
    "import hiddenlayer as hl\n",
    "import numpy as np"
   ]
  },
  {
   "cell_type": "code",
   "execution_count": 3,
   "metadata": {},
   "outputs": [],
   "source": [
    "# Fastai\n",
    "from fastai.vision import *\n",
    "from fastai.metrics import error_rate\n",
    "#from fastai.basics import *"
   ]
  },
  {
   "cell_type": "markdown",
   "metadata": {},
   "source": [
    "###### 1 - Baixar o Fashion MNIST, um conjunto de imagens de vestuário."
   ]
  },
  {
   "cell_type": "code",
   "execution_count": null,
   "metadata": {},
   "outputs": [],
   "source": [
    "!wget https://github.com/zalandoresearch/fashion-mnist/archive/master.zip\n",
    "!mv fashion-mnist-master.zip data/fashion-mnist-master.zip\n",
    "!unzip master.zip\n",
    "#!git clone https://github.com/zalandoresearch/fashion-mnist.git data/fashion_mnist"
   ]
  },
  {
   "cell_type": "markdown",
   "metadata": {},
   "source": [

    "###### 1.1 Preparar nossso diretório com os dados."
   ]
  },
  {
   "cell_type": "code",
   "execution_count": null,
   "metadata": {},
   "outputs": [],
   "source": [
    "#!mkdir /data/fashion_minist"
   ]
  },
  {
   "cell_type": "code",
   "execution_count": 4,
   "metadata": {},
   "outputs": [],
   "source": [
    "path ='data/fashion_mnist'"
   ]
  },
  {
   "cell_type": "code",
   "execution_count": 5,
   "metadata": {},
   "outputs": [],
   "source": [
    "from data.fashion_mnist.utils import mnist_reader"
   ]
  },
  {
   "cell_type": "markdown",
   "metadata": {},
   "source": [
    "######  1.2 Separar entre Treinamento e Teste"
   ]
  },
  {
   "cell_type": "code",
   "execution_count": 59,
   "metadata": {
    "scrolled": true
   },
   "outputs": [],
   "source": [
    "x_train, y_train = mnist_reader.load_mnist(f'{path}/data/fashion', kind='train')\n",
    "x_test, y_test = mnist_reader.load_mnist(f'{path}/data/fashion', kind='t10k')"
   ]
  },
  {
   "cell_type": "code",
   "execution_count": 60,
   "metadata": {},
   "outputs": [],
   "source": [
    "x_train = np.reshape(x_train , (x_train.shape[0],1,x_train.shape[1])).astype('float32')\n",
    "y_train = y_train.astype('int64')\n",
    "\n",
    "x_test = np.reshape(x_test, (x_test.shape[0],1,x_test.shape[1])).astype('float32')\n",
    "y_test = y_test.astype('int64')"
   ]
  },
  {
   "cell_type": "code",
   "execution_count": 62,
   "metadata": {},
   "outputs": [
    {
     "data": {
      "text/plain": [
       "((60000, 1, 784), dtype('float32'))"
      ]
     },
     "execution_count": 62,
     "metadata": {},
     "output_type": "execute_result"
    }
   ],
   "source": [
    "x_train.shape,x_train.dtype"
   ]
  },
  {
   "cell_type": "markdown",
   "metadata": {},
   "source": [
    "###### 1.3 Visualizar Amostra"
   ]
  },
  {
   "cell_type": "code",
   "execution_count": 33,
   "metadata": {},
   "outputs": [
    {
     "data": {
      "image/png": "[encoded data removed]",
      "text/plain": [
       "<Figure size 432x288 with 1 Axes>"
      ]
     },
     "metadata": {
      "needs_background": "light"
     },
     "output_type": "display_data"
    }
   ],
   "source": [
    "plt.imshow(x_train[0:2].reshape((56,28)), cmap=\"gray\");\n"
   ]
  },
  {
   "cell_type": "markdown",
   "metadata": {},
   "source": [
    "###### 1.4 Dividir entre Treinamento e Validação"
   ]
  },
  {
   "cell_type": "code",
   "execution_count": 63,
   "metadata": {},
   "outputs": [
    {
     "data": {
      "text/plain": [
       "(torch.Size([42000, 1, 784]), tensor(0), tensor(9))"
      ]
     },
     "execution_count": 63,
     "metadata": {},
     "output_type": "execute_result"
    }
   ],
   "source": [
    "x_train,y_train,x_valid,y_valid = map(torch.tensor, (x_train[0:np.int(x_train.shape[0]*0.7)],\n",
    "                                                     y_train[0:np.int(y_train.shape[0]*0.7)],\n",
    "                                                     x_train[np.int(x_train.shape[0]*0.7):x_train.shape[0]-1],\n",
    "                                                     y_train[np.int(y_train.shape[0]*0.7):y_train.shape[0]-1]))\n",
    "n,t,c = x_train.shape\n",
    "x_train.shape, y_train.min(), y_train.max()\n"
   ]
  },
  {
   "cell_type": "markdown",
   "metadata": {},
   "source": [
    "######  1.5  Prepara o Dataset para o Treinamento"
   ]
  },
  {
   "cell_type": "code",
   "execution_count": 64,
   "metadata": {},
   "outputs": [],
   "source": [
    "bs=32\n",
    "train_ds = TensorDataset(x_train, y_train)\n",
    "valid_ds = TensorDataset(x_valid, y_valid)\n",
    "data = DataBunch.create(train_ds, valid_ds, bs=bs)"
   ]
  },
  {
   "cell_type": "code",
   "execution_count": 65,
   "metadata": {},
   "outputs": [
    {
     "data": {
      "text/plain": [
       "(torch.Size([32, 1, 784]), torch.Size([32]))"
      ]
     },
     "execution_count": 65,
     "metadata": {},
     "output_type": "execute_result"
    }
   ],
   "source": [
    "x,y = next(iter(data.train_dl))\n",
    "x.shape,y.shape"
   ]
  },
  {
   "cell_type": "markdown",
   "metadata": {},
   "source": [
    "###### 2 Contruir esta rede CNN:"
   ]
  },
  {
   "cell_type": "code",
   "execution_count": 62,
   "metadata": {},
   "outputs": [
    {
     "data": {
      "text/plain": [
       "<matplotlib.image.AxesImage at 0x7b2de83d30>"
      ]
     },
     "execution_count": 62,
     "metadata": {},
     "output_type": "execute_result"
    },
    {
     "data": {
      "image/png": "[encoded data removed]",
      "text/plain": [
       "<Figure size 432x288 with 1 Axes>"
      ]
     },
     "metadata": {
      "needs_background": "light"
     },
     "output_type": "display_data"
    }
   ],
   "source": [
    "img = plt.imread(f'rede.png')\n",
    "plt.axis('off')\n",
    "plt.imshow(img)"
   ]
  },
  {
   "cell_type": "markdown",
   "metadata": {},
   "source": [
    "######  2.0 -Definir:\n",
    "1- Tamanho das imagens: sz\n",
    "\n",
    "2- Batch size: bs"
   ]
  },
  {
   "cell_type": "code",
   "execution_count": 17,
   "metadata": {},
   "outputs": [],
   "source": [
    "sz=28*28 #224\n",
    "#bs = 64 #32"
   ]
  },
  {
   "cell_type": "markdown",
   "metadata": {},
   "source": [
    "######  Funções Auxiliares"
   ]
  },
  {
   "cell_type": "code",
   "execution_count": 18,
   "metadata": {},
   "outputs": [],
   "source": [
    "# Função para Tranformar Serializar MAtrizes MxN em vetores 1* N*M\n",
    "#%%\n",
    "class Flatten(nn.Module):\n",
    "    def forward(self, input):\n",
    "        return input.view(input.size(0), -1)"
   ]
  },
  {
   "cell_type": "code",
   "execution_count": 66,
   "metadata": {},
   "outputs": [
    {
     "data": {
      "text/plain": [
       "(torch.Size([42000]), array([0, 1, 2, 3, 4, 5, 6, 7, 8, 9], dtype=int64))"
      ]
     },
     "execution_count": 66,
     "metadata": {},
     "output_type": "execute_result"
    }
   ],
   "source": [
    "y_train.shape, np.unique(y_train)"
   ]
  },
  {
   "cell_type": "code",
   "execution_count": 67,
   "metadata": {},
   "outputs": [],
   "source": [
    "class_names = (len(np.unique(y_train)),)"
   ]
  },
  {
   "cell_type": "code",
   "execution_count": 68,
   "metadata": {},
   "outputs": [
    {
     "data": {
      "text/plain": [
       "10"
      ]
     },
     "execution_count": 68,
     "metadata": {},
     "output_type": "execute_result"
    }
   ],
   "source": [
    "class_names[0]"
   ]
  },
  {
   "cell_type": "code",
   "execution_count": 69,
   "metadata": {},
   "outputs": [
    {
     "data": {
      "text/plain": [
       "784"
      ]
     },
     "execution_count": 69,
     "metadata": {},
     "output_type": "execute_result"
    }
   ],
   "source": [
    "x_train.shape[2]"
   ]
  },
  {
   "cell_type": "markdown",
   "metadata": {},
   "source": [
    "###### 2.1-Arquitetura da Rede"
   ]
  },
  {
   "cell_type": "code",
   "execution_count": 23,
   "metadata": {},
   "outputs": [],
   "source": [
    "# Rede CNN Típica de camadas sequencias.\n",
    "shape_ch =x_train.shape[2]\n",
    "shape_mid = np.int(((shape_ch-2)/2)+1)\n",
    "shape_fin =np.int(((shape_ch-4)/4)+1)\n",
    "net = nn.Sequential()\n",
    "net.add_module('Conv2_1',nn.Conv1d(in_channels=1, out_channels=shape_ch, kernel_size=3,bias=True))\n",
    "net.add_module('BatchNorm_1',nn.BatchNorm1d(shape_ch))\n",
    "net.add_module('reLU_1',nn.ReLU())\n",
    "net.add_module('Conv2_2',nn.Conv1d(in_channels=shape_ch, out_channels=shape_mid, kernel_size=3,bias=True))\n",
    "net.add_module('BatchNorm_2',nn.BatchNorm1d(shape_mid))\n",
    "net.add_module('reLU_2',nn.ReLU())\n",
    "net.add_module('Conv2_3',nn.Conv1d(in_channels=shape_mid, out_channels=shape_fin, kernel_size=3,bias=True))\n",
    "net.add_module('BatchNorm_3',nn.BatchNorm1d(shape_fin))\n",
    "net.add_module('flatten',Flatten())\n",
    "net.add_module('linear_1', nn.Linear(shape_ch*shape_fin-(shape_ch+shape_mid ),class_names[0]))\n",
    "net.add_module('classifier',nn.LogSoftmax())\n",
    "\n",
    "net = net.cuda()"
   ]
  },
  {
   "cell_type": "code",
   "execution_count": 24,
   "metadata": {},
   "outputs": [
    {
     "data": {
      "text/plain": [
       "Sequential(\n",
       "  (Conv2_1): Conv1d(1, 784, kernel_size=(3,), stride=(1,))\n",
       "  (BatchNorm_1): BatchNorm1d(784, eps=1e-05, momentum=0.1, affine=True, track_running_stats=True)\n",
       "  (reLU_1): ReLU()\n",
       "  (Conv2_2): Conv1d(784, 392, kernel_size=(3,), stride=(1,))\n",
       "  (BatchNorm_2): BatchNorm1d(392, eps=1e-05, momentum=0.1, affine=True, track_running_stats=True)\n",
       "  (reLU_2): ReLU()\n",
       "  (Conv2_3): Conv1d(392, 196, kernel_size=(3,), stride=(1,))\n",
       "  (BatchNorm_3): BatchNorm1d(196, eps=1e-05, momentum=0.1, affine=True, track_running_stats=True)\n",
       "  (flatten): Flatten()\n",
       "  (linear_1): Linear(in_features=152488, out_features=10, bias=True)\n",
       "  (classifier): LogSoftmax()\n",
       ")"
      ]
     },
     "execution_count": 24,
     "metadata": {},
     "output_type": "execute_result"
    }
   ],
   "source": [
    "net"
   ]
  },
  {
   "cell_type": "markdown",
   "metadata": {},
   "source": [
    "###### 2.2 Contrução do Grafo Visual da Rede"
   ]
  },
  {
   "cell_type": "markdown",
   "metadata": {},
   "source": [
    "###### 2.2.1  Opção para Sintetizar as conecções da rede"
   ]
  },
  {
   "cell_type": "code",
   "execution_count": 34,
   "metadata": {},
   "outputs": [],
   "source": [
    "#%%\n",
    "hl_transforms = [\n",
    "        # Fold Conv, BN, RELU layers into one\\n\",\n",
    "        hl.transforms.Fold(\"Conv > BatchNorm > Relu\", \"ConvBnRelu\",\"ConvBnRelu\"),\n",
    "        # Fold Conv, BN, RELU layers into one\\n\",\n",
    "        hl.transforms.Fold(\"ConvBnRelu > Conv > BatchNorm\",\"CvBnRl_CvBn\",\"CvBnRl_CvBn\"),\n",
    "        # Fold Conv, BN layers together\",\n",
    "        hl.transforms.Fold(\"Conv > BatchNorm\", \"ConvBn\",\"ConvBn\"),\n",
    "        # Fold bottleneck blocks\",\n",
    "        hl.transforms.Fold(\"\"\"(CvBnRl_CvBn | ConvBn)\"\"\",\"Bottleneck_Par\"),\n",
    "        hl.transforms.Fold(\"Bottleneck_Par  > Add > Relu\", \"Botl_Block\",\"Bottleneck Block\"),\n",
    "        # Fold residual blocks\",\n",
    "        hl.transforms.Fold(\"\"\"CvBnRl_CvBn > Add > Relu\"\"\",\n",
    "                           \"ResBlock\",\"Residual Block\"),                 \n",
    "        # Fold repeated blocks\",\n",
    "        hl.transforms.FoldDuplicates(),\n",
    "]"
   ]
  },
  {
   "cell_type": "markdown",
   "metadata": {},
   "source": [
    "###### 2.2.2 Apresentar Rede"
   ]
  },
  {
   "cell_type": "code",
   "execution_count": 25,
   "metadata": {},
   "outputs": [
    {
     "name": "stderr",
     "output_type": "stream",
     "text": [
      "C:\\Users\\Witenberg\\Anaconda3\\envs\\fastai_v1\\lib\\site-packages\\torch\\nn\\modules\\module.py:487: UserWarning: Implicit dimension choice for log_softmax has been deprecated. Change the call to include dim=X as an argument.\n",
      "  result = self._slow_forward(*input, **kwargs)\n"
     ]
    },
    {
     "data": {
      "image/svg+xml": [
       "<?xml version=\"1.0\" encoding=\"UTF-8\" standalone=\"no\"?>\r\n",
       "<!DOCTYPE svg PUBLIC \"-//W3C//DTD SVG 1.1//EN\"\r\n",
       " \"http://www.w3.org/Graphics/SVG/1.1/DTD/svg11.dtd\">\r\n",
       "<!-- Generated by graphviz version 2.38.0 (20140413.2041)\r\n",
       " -->\r\n",
       "<!-- Title: %3 Pages: 1 -->\r\n",
       "<svg width=\"360pt\" height=\"750pt\"\r\n",
       " viewBox=\"0.00 0.00 359.50 750.00\" xmlns=\"http://www.w3.org/2000/svg\" xmlns:xlink=\"http://www.w3.org/1999/xlink\">\r\n",
       "<g id=\"graph0\" class=\"graph\" transform=\"scale(1 1) rotate(0) translate(72 714)\">\r\n",
       "<title>%3</title>\r\n",
       "<polygon fill=\"#ffffff\" stroke=\"none\" points=\"-72,36 -72,-714 287.5,-714 287.5,36 -72,36\"/>\r\n",
       "<!-- Sequential/Flatten[flatten]/outputs/44 -->\r\n",
       "<g id=\"node1\" class=\"node\"><title>Sequential/Flatten[flatten]/outputs/44</title>\r\n",
       "<polygon fill=\"#bcd6fc\" stroke=\"#7c96bc\" points=\"148,-504 86,-504 86,-468 148,-468 148,-504\"/>\r\n",
       "<text text-anchor=\"start\" x=\"94\" y=\"-483\" font-family=\"Verdana\" font-size=\"10.00\" fill=\"#202020\">Constant</text>\r\n",
       "</g>\r\n",
       "<!-- Sequential/Flatten[flatten]/outputs/46 -->\r\n",
       "<g id=\"node3\" class=\"node\"><title>Sequential/Flatten[flatten]/outputs/46</title>\r\n",
       "<polygon fill=\"#bcd6fc\" stroke=\"#7c96bc\" points=\"68,-431 14,-431 14,-395 68,-395 68,-431\"/>\r\n",
       "<text text-anchor=\"start\" x=\"24\" y=\"-410\" font-family=\"Verdana\" font-size=\"10.00\" fill=\"#202020\">Gather</text>\r\n",
       "</g>\r\n",
       "<!-- Sequential/Flatten[flatten]/outputs/44&#45;&gt;Sequential/Flatten[flatten]/outputs/46 -->\r\n",
       "<g id=\"edge1\" class=\"edge\"><title>Sequential/Flatten[flatten]/outputs/44&#45;&gt;Sequential/Flatten[flatten]/outputs/46</title>\r\n",
       "<path fill=\"none\" stroke=\"#7c96bc\" d=\"M98.6025,-467.813C88.9872,-458.83 77.0661,-447.693 66.5677,-437.886\"/>\r\n",
       "<polygon fill=\"#7c96bc\" stroke=\"#7c96bc\" points=\"68.9248,-435.298 59.2281,-431.029 64.1461,-440.413 68.9248,-435.298\"/>\r\n",
       "</g>\r\n",
       "<!-- Sequential/Flatten[flatten]/outputs/45 -->\r\n",
       "<g id=\"node2\" class=\"node\"><title>Sequential/Flatten[flatten]/outputs/45</title>\r\n",
       "<polygon fill=\"#bcd6fc\" stroke=\"#7c96bc\" points=\"68,-504 14,-504 14,-468 68,-468 68,-504\"/>\r\n",
       "<text text-anchor=\"start\" x=\"26\" y=\"-483\" font-family=\"Verdana\" font-size=\"10.00\" fill=\"#202020\">Shape</text>\r\n",
       "</g>\r\n",
       "<!-- Sequential/Flatten[flatten]/outputs/45&#45;&gt;Sequential/Flatten[flatten]/outputs/46 -->\r\n",
       "<g id=\"edge2\" class=\"edge\"><title>Sequential/Flatten[flatten]/outputs/45&#45;&gt;Sequential/Flatten[flatten]/outputs/46</title>\r\n",
       "<path fill=\"none\" stroke=\"#7c96bc\" d=\"M41,-467.813C41,-459.789 41,-450.047 41,-441.069\"/>\r\n",
       "<polygon fill=\"#7c96bc\" stroke=\"#7c96bc\" points=\"44.5001,-441.029 41,-431.029 37.5001,-441.029 44.5001,-441.029\"/>\r\n",
       "</g>\r\n",
       "<!-- /outputs/48 -->\r\n",
       "<g id=\"node5\" class=\"node\"><title>/outputs/48</title>\r\n",
       "<polygon fill=\"#bcd6fc\" stroke=\"#7c96bc\" points=\"70,-348 0,-348 0,-312 70,-312 70,-348\"/>\r\n",
       "<text text-anchor=\"start\" x=\"8\" y=\"-327\" font-family=\"Verdana\" font-size=\"10.00\" fill=\"#202020\">Unsqueeze</text>\r\n",
       "</g>\r\n",
       "<!-- Sequential/Flatten[flatten]/outputs/46&#45;&gt;/outputs/48 -->\r\n",
       "<g id=\"edge3\" class=\"edge\"><title>Sequential/Flatten[flatten]/outputs/46&#45;&gt;/outputs/48</title>\r\n",
       "<path fill=\"none\" stroke=\"#7c96bc\" d=\"M39.7276,-394.822C38.94,-384.19 37.9116,-370.306 37.0151,-358.204\"/>\r\n",
       "<polygon fill=\"#7c96bc\" stroke=\"#7c96bc\" points=\"40.4999,-357.867 36.2706,-348.153 33.519,-358.385 40.4999,-357.867\"/>\r\n",
       "</g>\r\n",
       "<!-- Sequential/Flatten[flatten]/outputs/47 -->\r\n",
       "<g id=\"node4\" class=\"node\"><title>Sequential/Flatten[flatten]/outputs/47</title>\r\n",
       "<polygon fill=\"#bcd6fc\" stroke=\"#7c96bc\" points=\"154,-431 92,-431 92,-395 154,-395 154,-431\"/>\r\n",
       "<text text-anchor=\"start\" x=\"100\" y=\"-410\" font-family=\"Verdana\" font-size=\"10.00\" fill=\"#202020\">Constant</text>\r\n",
       "</g>\r\n",
       "<!-- /outputs/49 -->\r\n",
       "<g id=\"node6\" class=\"node\"><title>/outputs/49</title>\r\n",
       "<polygon fill=\"#bcd6fc\" stroke=\"#7c96bc\" points=\"158,-348 88,-348 88,-312 158,-312 158,-348\"/>\r\n",
       "<text text-anchor=\"start\" x=\"96\" y=\"-327\" font-family=\"Verdana\" font-size=\"10.00\" fill=\"#202020\">Unsqueeze</text>\r\n",
       "</g>\r\n",
       "<!-- Sequential/Flatten[flatten]/outputs/47&#45;&gt;/outputs/49 -->\r\n",
       "<g id=\"edge4\" class=\"edge\"><title>Sequential/Flatten[flatten]/outputs/47&#45;&gt;/outputs/49</title>\r\n",
       "<path fill=\"none\" stroke=\"#7c96bc\" d=\"M123,-394.822C123,-384.19 123,-370.306 123,-358.204\"/>\r\n",
       "<polygon fill=\"#7c96bc\" stroke=\"#7c96bc\" points=\"126.5,-358.153 123,-348.153 119.5,-358.153 126.5,-358.153\"/>\r\n",
       "</g>\r\n",
       "<!-- /outputs/50 -->\r\n",
       "<g id=\"node7\" class=\"node\"><title>/outputs/50</title>\r\n",
       "<polygon fill=\"#bcd6fc\" stroke=\"#7c96bc\" points=\"150,-275 96,-275 96,-239 150,-239 150,-275\"/>\r\n",
       "<text text-anchor=\"start\" x=\"105\" y=\"-254\" font-family=\"Verdana\" font-size=\"10.00\" fill=\"#202020\">Concat</text>\r\n",
       "</g>\r\n",
       "<!-- /outputs/48&#45;&gt;/outputs/50 -->\r\n",
       "<g id=\"edge5\" class=\"edge\"><title>/outputs/48&#45;&gt;/outputs/50</title>\r\n",
       "<path fill=\"none\" stroke=\"#7c96bc\" d=\"M56.3023,-311.813C67.652,-302.656 81.7763,-291.26 94.1015,-281.316\"/>\r\n",
       "<polygon fill=\"#7c96bc\" stroke=\"#7c96bc\" points=\"96.3088,-284.032 101.894,-275.029 91.9133,-278.584 96.3088,-284.032\"/>\r\n",
       "</g>\r\n",
       "<!-- /outputs/49&#45;&gt;/outputs/50 -->\r\n",
       "<g id=\"edge6\" class=\"edge\"><title>/outputs/49&#45;&gt;/outputs/50</title>\r\n",
       "<path fill=\"none\" stroke=\"#7c96bc\" d=\"M123,-311.813C123,-303.789 123,-294.047 123,-285.069\"/>\r\n",
       "<polygon fill=\"#7c96bc\" stroke=\"#7c96bc\" points=\"126.5,-285.029 123,-275.029 119.5,-285.029 126.5,-285.029\"/>\r\n",
       "</g>\r\n",
       "<!-- Sequential/Flatten[flatten]/outputs/51 -->\r\n",
       "<g id=\"node8\" class=\"node\"><title>Sequential/Flatten[flatten]/outputs/51</title>\r\n",
       "<polygon fill=\"#bcd6fc\" stroke=\"#7c96bc\" points=\"193,-202 135,-202 135,-166 193,-166 193,-202\"/>\r\n",
       "<text text-anchor=\"start\" x=\"143\" y=\"-181\" font-family=\"Verdana\" font-size=\"10.00\" fill=\"#202020\">Reshape</text>\r\n",
       "</g>\r\n",
       "<!-- /outputs/50&#45;&gt;Sequential/Flatten[flatten]/outputs/51 -->\r\n",
       "<g id=\"edge7\" class=\"edge\"><title>/outputs/50&#45;&gt;Sequential/Flatten[flatten]/outputs/51</title>\r\n",
       "<path fill=\"none\" stroke=\"#7c96bc\" d=\"M132.925,-238.813C137.76,-230.441 143.675,-220.197 149.042,-210.903\"/>\r\n",
       "<polygon fill=\"#7c96bc\" stroke=\"#7c96bc\" points=\"152.197,-212.439 154.166,-202.029 146.135,-208.938 152.197,-212.439\"/>\r\n",
       "</g>\r\n",
       "<!-- Sequential/Flatten[flatten]/outputs/52 -->\r\n",
       "<g id=\"node9\" class=\"node\"><title>Sequential/Flatten[flatten]/outputs/52</title>\r\n",
       "<polygon fill=\"#bcd6fc\" stroke=\"#7c96bc\" points=\"191,-119 137,-119 137,-83 191,-83 191,-119\"/>\r\n",
       "<text text-anchor=\"start\" x=\"149\" y=\"-98\" font-family=\"Verdana\" font-size=\"10.00\" fill=\"#202020\">Linear</text>\r\n",
       "</g>\r\n",
       "<!-- Sequential/Flatten[flatten]/outputs/51&#45;&gt;Sequential/Flatten[flatten]/outputs/52 -->\r\n",
       "<g id=\"edge8\" class=\"edge\"><title>Sequential/Flatten[flatten]/outputs/51&#45;&gt;Sequential/Flatten[flatten]/outputs/52</title>\r\n",
       "<path fill=\"none\" stroke=\"#7c96bc\" d=\"M164,-165.822C164,-155.19 164,-141.306 164,-129.204\"/>\r\n",
       "<polygon fill=\"#7c96bc\" stroke=\"#7c96bc\" points=\"167.5,-129.153 164,-119.153 160.5,-129.153 167.5,-129.153\"/>\r\n",
       "<text text-anchor=\"middle\" x=\"188\" y=\"-140\" font-family=\"Verdana\" font-size=\"10.00\" fill=\"#202020\">1x152488</text>\r\n",
       "</g>\r\n",
       "<!-- Sequential/LogSoftmax[classifier]/outputs/53 -->\r\n",
       "<g id=\"node10\" class=\"node\"><title>Sequential/LogSoftmax[classifier]/outputs/53</title>\r\n",
       "<polygon fill=\"#bcd6fc\" stroke=\"#7c96bc\" points=\"201,-36 127,-36 127,-0 201,-0 201,-36\"/>\r\n",
       "<text text-anchor=\"start\" x=\"135\" y=\"-15\" font-family=\"Verdana\" font-size=\"10.00\" fill=\"#202020\">LogSoftmax</text>\r\n",
       "</g>\r\n",
       "<!-- Sequential/Flatten[flatten]/outputs/52&#45;&gt;Sequential/LogSoftmax[classifier]/outputs/53 -->\r\n",
       "<g id=\"edge9\" class=\"edge\"><title>Sequential/Flatten[flatten]/outputs/52&#45;&gt;Sequential/LogSoftmax[classifier]/outputs/53</title>\r\n",
       "<path fill=\"none\" stroke=\"#7c96bc\" d=\"M164,-82.822C164,-72.1903 164,-58.306 164,-46.2035\"/>\r\n",
       "<polygon fill=\"#7c96bc\" stroke=\"#7c96bc\" points=\"167.5,-46.1532 164,-36.1533 160.5,-46.1533 167.5,-46.1532\"/>\r\n",
       "<text text-anchor=\"middle\" x=\"176\" y=\"-57\" font-family=\"Verdana\" font-size=\"10.00\" fill=\"#202020\">1x10</text>\r\n",
       "</g>\r\n",
       "<!-- 16335051708797105010 -->\r\n",
       "<g id=\"node11\" class=\"node\"><title>16335051708797105010</title>\r\n",
       "<polygon fill=\"#bcd6fc\" stroke=\"#7c96bc\" points=\"198.5,-587 83.5,-587 83.5,-551 198.5,-551 198.5,-587\"/>\r\n",
       "<text text-anchor=\"start\" x=\"92\" y=\"-566\" font-family=\"Verdana\" font-size=\"10.00\" fill=\"#202020\">Conv3 &gt; BatchNorm</text>\r\n",
       "</g>\r\n",
       "<!-- 16335051708797105010&#45;&gt;Sequential/Flatten[flatten]/outputs/45 -->\r\n",
       "<g id=\"edge10\" class=\"edge\"><title>16335051708797105010&#45;&gt;Sequential/Flatten[flatten]/outputs/45</title>\r\n",
       "<path fill=\"none\" stroke=\"#7c96bc\" d=\"M119.793,-550.822C105.341,-539.116 86.0221,-523.468 70.1307,-510.596\"/>\r\n",
       "<polygon fill=\"#7c96bc\" stroke=\"#7c96bc\" points=\"72.1505,-507.728 62.1769,-504.153 67.7445,-513.167 72.1505,-507.728\"/>\r\n",
       "<text text-anchor=\"middle\" x=\"106.5\" y=\"-525\" font-family=\"Verdana\" font-size=\"10.00\" fill=\"#202020\">196</text>\r\n",
       "</g>\r\n",
       "<!-- 16335051708797105010&#45;&gt;Sequential/Flatten[flatten]/outputs/51 -->\r\n",
       "<g id=\"edge11\" class=\"edge\"><title>16335051708797105010&#45;&gt;Sequential/Flatten[flatten]/outputs/51</title>\r\n",
       "<path fill=\"none\" stroke=\"#7c96bc\" d=\"M157.246,-550.864C170.136,-535.423 186,-511.452 186,-487 186,-487 186,-487 186,-256 186,-240.781 181.331,-224.515 176.294,-211.398\"/>\r\n",
       "<polygon fill=\"#7c96bc\" stroke=\"#7c96bc\" points=\"179.489,-209.962 172.443,-202.05 173.016,-212.629 179.489,-209.962\"/>\r\n",
       "<text text-anchor=\"middle\" x=\"195.5\" y=\"-369\" font-family=\"Verdana\" font-size=\"10.00\" fill=\"#202020\">196</text>\r\n",
       "</g>\r\n",
       "<!-- 13014673653929044464 -->\r\n",
       "<g id=\"node12\" class=\"node\"><title>13014673653929044464</title>\r\n",
       "<polygon fill=\"#bcd6fc\" stroke=\"#7c96bc\" points=\"215.5,-678 66.5,-678 66.5,-634 215.5,-634 215.5,-678\"/>\r\n",
       "<text text-anchor=\"start\" x=\"75\" y=\"-662\" font-family=\"Verdana\" font-size=\"10.00\" fill=\"#202020\">Conv3 &gt; BatchNorm &gt; Relu</text>\r\n",
       "<text text-anchor=\"start\" x=\"200\" y=\"-641\" font-family=\"Verdana\" font-size=\"10.00\" fill=\"#202020\">x2</text>\r\n",
       "</g>\r\n",
       "<!-- 13014673653929044464&#45;&gt;16335051708797105010 -->\r\n",
       "<g id=\"edge12\" class=\"edge\"><title>13014673653929044464&#45;&gt;16335051708797105010</title>\r\n",
       "<path fill=\"none\" stroke=\"#7c96bc\" d=\"M141,-633.989C141,-622.923 141,-609.219 141,-597.336\"/>\r\n",
       "<polygon fill=\"#7c96bc\" stroke=\"#7c96bc\" points=\"144.5,-597.062 141,-587.062 137.5,-597.062 144.5,-597.062\"/>\r\n",
       "<text text-anchor=\"middle\" x=\"167.5\" y=\"-608\" font-family=\"Verdana\" font-size=\"10.00\" fill=\"#202020\">1x784x782</text>\r\n",
       "</g>\r\n",
       "</g>\r\n",
       "</svg>\r\n"
      ],
      "text/plain": [
       "<hiddenlayer.graph.Graph at 0x2687ed1f28>"
      ]
     },
     "execution_count": 25,
     "metadata": {},
     "output_type": "execute_result"
    }
   ],
   "source": [
    "model_fakeData = randn(1,1,sz).cuda()\n",
    "hl_graph = hl.build_graph(net,model_fakeData)\n",
    "hl_graph.theme = hl.graph.THEMES[\"blue\"]\n",
    "hl_graph"
   ]
  },
  {
   "cell_type": "markdown",
   "metadata": {},
   "source": [
    "###### 3 Treinar"
   ]
  },
  {
   "cell_type": "code",
   "execution_count": 123,
   "metadata": {
    "scrolled": true
   },
   "outputs": [
    {
     "data": {
      "text/plain": [
       "<bound method DataBunch.show_batch of DataBunch;\n",
       "\n",
       "Train: <torch.utils.data.dataset.TensorDataset object at 0x0000007B2DD24208>;\n",
       "\n",
       "Valid: <torch.utils.data.dataset.TensorDataset object at 0x0000007B2DD24940>;\n",
       "\n",
       "Test: None>"
      ]
     },
     "execution_count": 123,
     "metadata": {},
     "output_type": "execute_result"
    }
   ],
   "source": [
    "data.show_batch"
   ]
  },
  {
   "cell_type": "markdown",
   "metadata": {},
   "source": [
    "###### 3.0 Taxa Inicial"
   ]
  },
  {
   "cell_type": "code",
   "execution_count": 70,
   "metadata": {},
   "outputs": [],
   "source": [
    "lr=2e-2"
   ]
  },
  {
   "cell_type": "markdown",
   "metadata": {},
   "source": [
    "###### 3.1 Otimização"
   ]
  },
  {
   "cell_type": "code",
   "execution_count": 71,
   "metadata": {},
   "outputs": [],
   "source": [
    "loss_func = nn.CrossEntropyLoss()"
   ]
  },
  {
   "cell_type": "markdown",
   "metadata": {},
   "source": [
    "######  3.2 Leaner"
   ]
  },
  {
   "cell_type": "code",
   "execution_count": 72,
   "metadata": {},
   "outputs": [],
   "source": [
    "learn1 = Learner(data, net, loss_func=loss_func, metrics=error_rate)"
   ]
  },
  {
   "cell_type": "markdown",
   "metadata": {},
   "source": [
    "######  3,3 Iniciar Varredura de Melhor Taxa"
   ]
  },
  {
   "cell_type": "code",
   "execution_count": 73,
   "metadata": {},
   "outputs": [
    {
     "data": {
      "text/html": [],
      "text/plain": [
       "<IPython.core.display.HTML object>"
      ]
     },
     "metadata": {},
     "output_type": "display_data"
    },
    {
     "name": "stderr",
     "output_type": "stream",
     "text": [
      "C:\\Users\\Witenberg\\Anaconda3\\envs\\fastai_v1\\lib\\site-packages\\torch\\nn\\modules\\container.py:92: UserWarning: Implicit dimension choice for log_softmax has been deprecated. Change the call to include dim=X as an argument.\n",
      "  input = module(input)\n"
     ]
    },
    {
     "name": "stdout",
     "output_type": "stream",
     "text": [
      "LR Finder is complete, type {learner_name}.recorder.plot() to see the graph.\n"
     ]
    },
    {
     "data": {
      "image/png": "[encoded data removed]",
      "text/plain": [
       "<Figure size 432x288 with 1 Axes>"
      ]
     },
     "metadata": {
      "needs_background": "light"
     },
     "output_type": "display_data"
    }
   ],
   "source": [
    "learn1.lr_find()\n",
    "learn1.recorder.plot()"
   ]
  },
  {
   "cell_type": "markdown",
   "metadata": {},
   "source": [
    "###### 3.4 Treinar com One Cycle"
   ]
  },
  {
   "cell_type": "code",
   "execution_count": 75,
   "metadata": {},
   "outputs": [
    {
     "data": {
      "text/html": [
       "Total time: 15:54 <p><table border=\"1\" class=\"dataframe\">\n",
       "  <thead>\n",
       "    <tr style=\"text-align: left;\">\n",
       "      <th>epoch</th>\n",
       "      <th>train_loss</th>\n",
       "      <th>valid_loss</th>\n",
       "      <th>error_rate</th>\n",
       "      <th>time</th>\n",
       "    </tr>\n",
       "  </thead>\n",
       "  <tbody>\n",
       "    <tr>\n",
       "      <td>0</td>\n",
       "      <td>0.587768</td>\n",
       "      <td>0.530275</td>\n",
       "      <td>0.126396</td>\n",
       "      <td>15:54</td>\n",
       "    </tr>\n",
       "  </tbody>\n",
       "</table>"
      ],
      "text/plain": [
       "<IPython.core.display.HTML object>"
      ]
     },
     "metadata": {},
     "output_type": "display_data"
    }
   ],
   "source": [
    "learn1.fit_one_cycle(1, 1e-3)"
   ]
  },
  {
   "cell_type": "code",
   "execution_count": 76,
   "metadata": {},
   "outputs": [
    {
     "data": {
      "image/png": "[encoded data removed]",
      "text/plain": [
       "<Figure size 432x288 with 1 Axes>"
      ]
     },
     "metadata": {
      "needs_background": "light"
     },
     "output_type": "display_data"
    }
   ],
   "source": [
    "learn1.recorder.plot_losses()"
   ]
  },
  {
   "cell_type": "code",
   "execution_count": 77,
   "metadata": {},
   "outputs": [],
   "source": [
    "learn1.save('fastaiv1_cnn_fashion')"
   ]
  },
  {
   "cell_type": "markdown",
   "metadata": {},
   "source": [
    "###### 4 Apresentar Resultados"
   ]
  },
  {
   "cell_type": "code",
   "execution_count": 78,
   "metadata": {},
   "outputs": [],
   "source": [
    "interp = ClassificationInterpretation.from_learner(learn1)"
   ]
  },
  {
   "cell_type": "code",
   "execution_count": 79,
   "metadata": {},
   "outputs": [],
   "source": [
    "losses,idxs = interp.top_losses()"
   ]
  },
  {
   "cell_type": "code",
   "execution_count": 80,
   "metadata": {},
   "outputs": [
    {
     "data": {
      "text/plain": [
       "True"
      ]
     },
     "execution_count": 80,
     "metadata": {},
     "output_type": "execute_result"
    }
   ],
   "source": [
    "len(data.valid_ds)==len(losses)==len(idxs)"
   ]
  },
  {
   "cell_type": "code",
   "execution_count": 114,
   "metadata": {},
   "outputs": [],
   "source": [
    "classes = np.unique(interp.y_true)"
   ]
  },
  {
   "cell_type": "code",
   "execution_count": 133,
   "metadata": {
    "scrolled": false
   },
   "outputs": [],
   "source": [
    "data.c,data.classes = len(np.unique(interp.y_true)),classes.astype('str')"
   ]
  },
  {
   "cell_type": "markdown",
   "metadata": {},
   "source": [
    "###### 4.1 Matriz de Confusão"
   ]
  },
  {
   "cell_type": "code",
   "execution_count": 141,
   "metadata": {},
   "outputs": [
    {
     "data": {
      "image/png": "[encoded data removed]",
      "text/plain": [
       "<Figure size 1080x720 with 2 Axes>"
      ]
     },
     "metadata": {
      "needs_background": "light"
     },
     "output_type": "display_data"
    }
   ],
   "source": [
    "from plots_confusion_matrix import cm_analysis\n",
    "cm_analysis(interp.y_true,interp.pred_class, 'confusion_fashion.png', labels=data.classes, ymap=None,figsize=(15,10))"
   ]
  },
  {
   "cell_type": "code",
   "execution_count": 126,
   "metadata": {},
   "outputs": [
    {
     "data": {
      "text/plain": [
       "[('0', '6', 242),\n",
       " ('2', '6', 176),\n",
       " ('6', '0', 176),\n",
       " ('2', '4', 164),\n",
       " ('4', '6', 153),\n",
       " ('6', '2', 148),\n",
       " ('6', '4', 120),\n",
       " ('4', '2', 117),\n",
       " ('0', '3', 72),\n",
       " ('3', '6', 71),\n",
       " ('6', '3', 68),\n",
       " ('9', '7', 68),\n",
       " ('0', '2', 63),\n",
       " ('3', '4', 56),\n",
       " ('3', '0', 55),\n",
       " ('4', '3', 51),\n",
       " ('7', '9', 51),\n",
       " ('5', '7', 48),\n",
       " ('1', '3', 31),\n",
       " ('2', '3', 30),\n",
       " ('7', '5', 25),\n",
       " ('8', '6', 22),\n",
       " ('3', '1', 21),\n",
       " ('6', '8', 21),\n",
       " ('0', '8', 19),\n",
       " ('3', '2', 19),\n",
       " ('5', '9', 18),\n",
       " ('9', '5', 17),\n",
       " ('2', '0', 15),\n",
       " ('4', '8', 12),\n",
       " ('0', '4', 8),\n",
       " ('8', '3', 8),\n",
       " ('8', '7', 8),\n",
       " ('2', '8', 7),\n",
       " ('5', '8', 7),\n",
       " ('7', '8', 7),\n",
       " ('8', '0', 7),\n",
       " ('8', '2', 7),\n",
       " ('2', '1', 6),\n",
       " ('3', '8', 6),\n",
       " ('8', '5', 6),\n",
       " ('1', '4', 5),\n",
       " ('1', '6', 5),\n",
       " ('0', '1', 4),\n",
       " ('1', '0', 4),\n",
       " ('4', '1', 4),\n",
       " ('6', '1', 4),\n",
       " ('8', '4', 4),\n",
       " ('3', '9', 3),\n",
       " ('4', '0', 3),\n",
       " ('5', '1', 3),\n",
       " ('9', '8', 2),\n",
       " ('0', '5', 1),\n",
       " ('0', '7', 1),\n",
       " ('1', '2', 1),\n",
       " ('5', '0', 1),\n",
       " ('5', '3', 1),\n",
       " ('5', '6', 1),\n",
       " ('8', '1', 1),\n",
       " ('9', '4', 1)]"
      ]
     },
     "execution_count": 126,
     "metadata": {},
     "output_type": "execute_result"
    }
   ],
   "source": [
    "interp.most_confused()"
   ]
  },
  {
   "cell_type": "markdown",
   "metadata": {},
   "source": [
    "###### 4.2 Outras Métricas"
   ]
  },
  {
   "cell_type": "code",
   "execution_count": 142,
   "metadata": {},
   "outputs": [
    {
     "name": "stdout",
     "output_type": "stream",
     "text": [
      "              precision    recall  f1-score   support\n",
      "\n",
      "           0       0.84      0.77      0.81      1815\n",
      "           1       0.98      0.97      0.98      1823\n",
      "           2       0.81      0.79      0.80      1879\n",
      "           3       0.86      0.87      0.86      1798\n",
      "           4       0.81      0.81      0.81      1821\n",
      "           5       0.97      0.96      0.96      1781\n",
      "           6       0.64      0.69      0.67      1747\n",
      "           7       0.93      0.95      0.94      1756\n",
      "           8       0.95      0.96      0.96      1769\n",
      "           9       0.96      0.95      0.96      1810\n",
      "\n",
      "   micro avg       0.87      0.87      0.87     17999\n",
      "   macro avg       0.87      0.87      0.87     17999\n",
      "weighted avg       0.88      0.87      0.87     17999\n",
      "\n"
     ]
    }
   ],
   "source": [
    "from sklearn.metrics import classification_report\n",
    "print(classification_report(interp.y_true,interp.pred_class,target_names=data.classes))"
   ]
  },
  {
   "cell_type": "code",
   "execution_count": 158,
   "metadata": {},
   "outputs": [
    {
     "data": {
      "text/plain": [
       "(tensor([9, 4, 3,  ..., 1, 3, 0]), tensor([9, 4, 3,  ..., 1, 3, 0]))"
      ]
     },
     "execution_count": 158,
     "metadata": {},
     "output_type": "execute_result"
    }
   ],
   "source": [
    "interp.y_true,interp.y_true"
   ]
  },
  {
   "cell_type": "code",
   "execution_count": 161,
   "metadata": {},
   "outputs": [],
   "source": [
    "accuracia = np.mean(np.asarray(interp.pred_class)==np.asarray(interp.y_true),dtype=np.float32)"
   ]
  },
  {
   "cell_type": "code",
   "execution_count": 162,
   "metadata": {},
   "outputs": [
    {
     "name": "stdout",
     "output_type": "stream",
     "text": [
      "Acuracia= 87.36%\n"
     ]
    }
   ],
   "source": [
    "print(\"Acuracia= {:0.2f}\".format(accuracia*100)+'%')"
   ]
  },
  {
   "cell_type": "markdown",
   "metadata": {},
   "source": [
    "###### 2.3  Opção 2: Rede Residual"
   ]
  },
  {
   "cell_type": "code",
   "execution_count": 89,
   "metadata": {},
   "outputs": [],
   "source": [
    "#Bloco Residual\n",
    "class Residual(nn.Module):\n",
    "    def __init__(self,args):\n",
    "        super().__init__()\n",
    "        in_ch = args[0][0]\n",
    "        out_ch = args[0][1]\n",
    "        self.conv1 = nn.Conv2d(in_channels=in_ch, out_channels=out_ch, kernel_size=3,bias=True)\n",
    "        self.batchnorm1 = nn.BatchNorm2d(out_ch)\n",
    "        self.relu1 = nn.ReLU(inplace=True)\n",
    "        self.conv2 = nn.Conv2d(in_channels=out_ch, out_channels=in_ch, kernel_size=1)\n",
    "        \n",
    "    def forward(self, input):\n",
    "        saida1 = self.conv1(input)\n",
    "        saida1_normalizada = self.batchnorm1(saida1)\n",
    "        saida_relu = self.relu1(saida1_normalizada)\n",
    "        saida2 = self.conv2(saida_relu) \n",
    "        saida = torch.cat([saida1,saida2],1)\n",
    "        return saida"
   ]
  },
  {
   "cell_type": "markdown",
   "metadata": {},
   "source": [
    "###### 2.3.1 Rede Residual (Mini-Resnet)"
   ]
  },
  {
   "cell_type": "code",
   "execution_count": 120,
   "metadata": {},
   "outputs": [],
   "source": [
    "net2 = nn.Sequential()\n",
    "net2.add_module('residual1',Residual([[3,15]]))\n",
    "net2.add_module('flatten',Flatten())\n",
    "net2.add_module('linear_1', nn.Linear(887112,class_names[0]))\n",
    "net2.add_module('classifier',nn.LogSoftmax())\n",
    "\n",
    "net2 = net2.cuda()"
   ]
  },
  {
   "cell_type": "code",
   "execution_count": 121,
   "metadata": {},
   "outputs": [
    {
     "data": {
      "text/plain": [
       "Sequential(\n",
       "  (residual1): Residual(\n",
       "    (conv1): Conv2d(3, 15, kernel_size=(3, 3), stride=(1, 1))\n",
       "    (batchnorm1): BatchNorm2d(15, eps=1e-05, momentum=0.1, affine=True, track_running_stats=True)\n",
       "    (relu1): ReLU(inplace)\n",
       "    (conv2): Conv2d(15, 3, kernel_size=(1, 1), stride=(1, 1))\n",
       "  )\n",
       "  (flatten): Flatten()\n",
       "  (linear_1): Linear(in_features=887112, out_features=10, bias=True)\n",
       "  (classifier): LogSoftmax()\n",
       ")"
      ]
     },
     "execution_count": 121,
     "metadata": {},
     "output_type": "execute_result"
    }
   ],
   "source": [
    "net2"
   ]
  },
  {
   "cell_type": "code",
   "execution_count": 122,
   "metadata": {
    "scrolled": false
   },
   "outputs": [
    {
     "data": {
      "image/svg+xml": [
       "<?xml version=\"1.0\" encoding=\"UTF-8\" standalone=\"no\"?>\r\n",
       "<!DOCTYPE svg PUBLIC \"-//W3C//DTD SVG 1.1//EN\"\r\n",
       " \"http://www.w3.org/Graphics/SVG/1.1/DTD/svg11.dtd\">\r\n",
       "<!-- Generated by graphviz version 2.38.0 (20140413.2041)\r\n",
       " -->\r\n",
       "<!-- Title: %3 Pages: 1 -->\r\n",
       "<svg width=\"404pt\" height=\"991pt\"\r\n",
       " viewBox=\"0.00 0.00 404.00 991.00\" xmlns=\"http://www.w3.org/2000/svg\" xmlns:xlink=\"http://www.w3.org/1999/xlink\">\r\n",
       "<g id=\"graph0\" class=\"graph\" transform=\"scale(1 1) rotate(0) translate(72 955)\">\r\n",
       "<title>%3</title>\r\n",
       "<polygon fill=\"#ffffff\" stroke=\"none\" points=\"-72,36 -72,-955 332,-955 332,36 -72,36\"/>\r\n",
       "<!-- Sequential/Residual[residual1]/Conv2d[conv1]/outputs/12 -->\r\n",
       "<g id=\"node1\" class=\"node\"><title>Sequential/Residual[residual1]/Conv2d[conv1]/outputs/12</title>\r\n",
       "<polygon fill=\"#bcd6fc\" stroke=\"#7c96bc\" points=\"106.5,-919 47.5,-919 47.5,-883 106.5,-883 106.5,-919\"/>\r\n",
       "<text text-anchor=\"start\" x=\"56\" y=\"-898\" font-family=\"Verdana\" font-size=\"10.00\" fill=\"#202020\">Conv3x3</text>\r\n",
       "</g>\r\n",
       "<!-- Sequential/Residual[residual1]/BatchNorm2d[batchnorm1]/outputs/13/14/15/batch_norm_dead_output&#45;29/batch_norm_dead_output&#45;30 -->\r\n",
       "<g id=\"node2\" class=\"node\"><title>Sequential/Residual[residual1]/BatchNorm2d[batchnorm1]/outputs/13/14/15/batch_norm_dead_output&#45;29/batch_norm_dead_output&#45;30</title>\r\n",
       "<polygon fill=\"#bcd6fc\" stroke=\"#7c96bc\" points=\"70,-836 0,-836 0,-800 70,-800 70,-836\"/>\r\n",
       "<text text-anchor=\"start\" x=\"8\" y=\"-815\" font-family=\"Verdana\" font-size=\"10.00\" fill=\"#202020\">BatchNorm</text>\r\n",
       "</g>\r\n",
       "<!-- Sequential/Residual[residual1]/Conv2d[conv1]/outputs/12&#45;&gt;Sequential/Residual[residual1]/BatchNorm2d[batchnorm1]/outputs/13/14/15/batch_norm_dead_output&#45;29/batch_norm_dead_output&#45;30 -->\r\n",
       "<g id=\"edge1\" class=\"edge\"><title>Sequential/Residual[residual1]/Conv2d[conv1]/outputs/12&#45;&gt;Sequential/Residual[residual1]/BatchNorm2d[batchnorm1]/outputs/13/14/15/batch_norm_dead_output&#45;29/batch_norm_dead_output&#45;30</title>\r\n",
       "<path fill=\"none\" stroke=\"#7c96bc\" d=\"M50.0597,-882.71C44.4164,-877.719 39.2091,-871.765 36,-865 33.3241,-859.359 32.1889,-852.875 31.903,-846.589\"/>\r\n",
       "<polygon fill=\"#7c96bc\" stroke=\"#7c96bc\" points=\"35.4064,-846.445 32.1018,-836.379 28.4077,-846.309 35.4064,-846.445\"/>\r\n",
       "<text text-anchor=\"middle\" x=\"71\" y=\"-857\" font-family=\"Verdana\" font-size=\"10.00\" fill=\"#202020\">1x15x222x222</text>\r\n",
       "</g>\r\n",
       "<!-- Sequential/Residual[residual1]/outputs/20 -->\r\n",
       "<g id=\"node5\" class=\"node\"><title>Sequential/Residual[residual1]/outputs/20</title>\r\n",
       "<polygon fill=\"#bcd6fc\" stroke=\"#7c96bc\" points=\"107,-587 53,-587 53,-551 107,-551 107,-587\"/>\r\n",
       "<text text-anchor=\"start\" x=\"62\" y=\"-566\" font-family=\"Verdana\" font-size=\"10.00\" fill=\"#202020\">Concat</text>\r\n",
       "</g>\r\n",
       "<!-- Sequential/Residual[residual1]/Conv2d[conv1]/outputs/12&#45;&gt;Sequential/Residual[residual1]/outputs/20 -->\r\n",
       "<g id=\"edge2\" class=\"edge\"><title>Sequential/Residual[residual1]/Conv2d[conv1]/outputs/12&#45;&gt;Sequential/Residual[residual1]/outputs/20</title>\r\n",
       "<path fill=\"none\" stroke=\"#7c96bc\" d=\"M93.5221,-882.825C98.0511,-877.437 102.635,-871.254 106,-865 116.127,-846.181 120,-840.37 120,-819 120,-819 120,-819 120,-651 120,-629.63 115.625,-624.08 106,-605 104.383,-601.794 102.472,-598.574 100.432,-595.456\"/>\r\n",
       "<polygon fill=\"#7c96bc\" stroke=\"#7c96bc\" points=\"103.109,-593.179 94.4783,-587.033 97.3925,-597.219 103.109,-593.179\"/>\r\n",
       "<text text-anchor=\"middle\" x=\"155\" y=\"-732.5\" font-family=\"Verdana\" font-size=\"10.00\" fill=\"#202020\">1x15x222x222</text>\r\n",
       "</g>\r\n",
       "<!-- Sequential/Residual[residual1]/ReLU[relu1]/outputs/18 -->\r\n",
       "<g id=\"node3\" class=\"node\"><title>Sequential/Residual[residual1]/ReLU[relu1]/outputs/18</title>\r\n",
       "<polygon fill=\"#bcd6fc\" stroke=\"#7c96bc\" points=\"62,-753 8,-753 8,-717 62,-717 62,-753\"/>\r\n",
       "<text text-anchor=\"start\" x=\"25\" y=\"-732\" font-family=\"Verdana\" font-size=\"10.00\" fill=\"#202020\">Relu</text>\r\n",
       "</g>\r\n",
       "<!-- Sequential/Residual[residual1]/BatchNorm2d[batchnorm1]/outputs/13/14/15/batch_norm_dead_output&#45;29/batch_norm_dead_output&#45;30&#45;&gt;Sequential/Residual[residual1]/ReLU[relu1]/outputs/18 -->\r\n",
       "<g id=\"edge3\" class=\"edge\"><title>Sequential/Residual[residual1]/BatchNorm2d[batchnorm1]/outputs/13/14/15/batch_norm_dead_output&#45;29/batch_norm_dead_output&#45;30&#45;&gt;Sequential/Residual[residual1]/ReLU[relu1]/outputs/18</title>\r\n",
       "<path fill=\"none\" stroke=\"#7c96bc\" d=\"M35,-799.822C35,-789.19 35,-775.306 35,-763.204\"/>\r\n",
       "<polygon fill=\"#7c96bc\" stroke=\"#7c96bc\" points=\"38.5001,-763.153 35,-753.153 31.5001,-763.153 38.5001,-763.153\"/>\r\n",
       "<text text-anchor=\"middle\" x=\"41.5\" y=\"-774\" font-family=\"Verdana\" font-size=\"10.00\" fill=\"#202020\">15</text>\r\n",
       "</g>\r\n",
       "<!-- Sequential/Residual[residual1]/Conv2d[conv2]/outputs/19 -->\r\n",
       "<g id=\"node4\" class=\"node\"><title>Sequential/Residual[residual1]/Conv2d[conv2]/outputs/19</title>\r\n",
       "<polygon fill=\"#bcd6fc\" stroke=\"#7c96bc\" points=\"66.5,-670 7.5,-670 7.5,-634 66.5,-634 66.5,-670\"/>\r\n",
       "<text text-anchor=\"start\" x=\"16\" y=\"-649\" font-family=\"Verdana\" font-size=\"10.00\" fill=\"#202020\">Conv1x1</text>\r\n",
       "</g>\r\n",
       "<!-- Sequential/Residual[residual1]/ReLU[relu1]/outputs/18&#45;&gt;Sequential/Residual[residual1]/Conv2d[conv2]/outputs/19 -->\r\n",
       "<g id=\"edge4\" class=\"edge\"><title>Sequential/Residual[residual1]/ReLU[relu1]/outputs/18&#45;&gt;Sequential/Residual[residual1]/Conv2d[conv2]/outputs/19</title>\r\n",
       "<path fill=\"none\" stroke=\"#7c96bc\" d=\"M35.3427,-716.96C35.5242,-708.289 35.759,-697.583 36,-688 36.0642,-685.448 36.1343,-682.791 36.2065,-680.132\"/>\r\n",
       "<polygon fill=\"#7c96bc\" stroke=\"#7c96bc\" points=\"39.7064,-680.184 36.4884,-670.089 32.7091,-679.987 39.7064,-680.184\"/>\r\n",
       "<text text-anchor=\"middle\" x=\"71\" y=\"-691\" font-family=\"Verdana\" font-size=\"10.00\" fill=\"#202020\">1x15x222x222</text>\r\n",
       "</g>\r\n",
       "<!-- Sequential/Residual[residual1]/Conv2d[conv2]/outputs/19&#45;&gt;Sequential/Residual[residual1]/outputs/20 -->\r\n",
       "<g id=\"edge5\" class=\"edge\"><title>Sequential/Residual[residual1]/Conv2d[conv2]/outputs/19&#45;&gt;Sequential/Residual[residual1]/outputs/20</title>\r\n",
       "<path fill=\"none\" stroke=\"#7c96bc\" d=\"M36.0463,-633.576C36.242,-624.607 37.5845,-613.749 42,-605 43.9094,-601.217 46.4084,-597.637 49.2144,-594.316\"/>\r\n",
       "<polygon fill=\"#7c96bc\" stroke=\"#7c96bc\" points=\"51.782,-596.695 56.1859,-587.059 46.734,-591.846 51.782,-596.695\"/>\r\n",
       "<text text-anchor=\"middle\" x=\"74\" y=\"-608\" font-family=\"Verdana\" font-size=\"10.00\" fill=\"#202020\">1x3x222x222</text>\r\n",
       "</g>\r\n",
       "<!-- Sequential/Flatten[flatten]/outputs/22 -->\r\n",
       "<g id=\"node7\" class=\"node\"><title>Sequential/Flatten[flatten]/outputs/22</title>\r\n",
       "<polygon fill=\"#bcd6fc\" stroke=\"#7c96bc\" points=\"252,-504 198,-504 198,-468 252,-468 252,-504\"/>\r\n",
       "<text text-anchor=\"start\" x=\"210\" y=\"-483\" font-family=\"Verdana\" font-size=\"10.00\" fill=\"#202020\">Shape</text>\r\n",
       "</g>\r\n",
       "<!-- Sequential/Residual[residual1]/outputs/20&#45;&gt;Sequential/Flatten[flatten]/outputs/22 -->\r\n",
       "<g id=\"edge6\" class=\"edge\"><title>Sequential/Residual[residual1]/outputs/20&#45;&gt;Sequential/Flatten[flatten]/outputs/22</title>\r\n",
       "<path fill=\"none\" stroke=\"#7c96bc\" d=\"M107.273,-552.765C130.362,-539.867 163.639,-521.278 188.927,-507.151\"/>\r\n",
       "<polygon fill=\"#7c96bc\" stroke=\"#7c96bc\" points=\"190.826,-510.1 197.849,-502.167 187.412,-503.989 190.826,-510.1\"/>\r\n",
       "<text text-anchor=\"middle\" x=\"197\" y=\"-525\" font-family=\"Verdana\" font-size=\"10.00\" fill=\"#202020\">1x18x222x222</text>\r\n",
       "</g>\r\n",
       "<!-- Sequential/Flatten[flatten]/outputs/28 -->\r\n",
       "<g id=\"node13\" class=\"node\"><title>Sequential/Flatten[flatten]/outputs/28</title>\r\n",
       "<polygon fill=\"#bcd6fc\" stroke=\"#7c96bc\" points=\"117,-202 59,-202 59,-166 117,-166 117,-202\"/>\r\n",
       "<text text-anchor=\"start\" x=\"67\" y=\"-181\" font-family=\"Verdana\" font-size=\"10.00\" fill=\"#202020\">Reshape</text>\r\n",
       "</g>\r\n",
       "<!-- Sequential/Residual[residual1]/outputs/20&#45;&gt;Sequential/Flatten[flatten]/outputs/28 -->\r\n",
       "<g id=\"edge7\" class=\"edge\"><title>Sequential/Residual[residual1]/outputs/20&#45;&gt;Sequential/Flatten[flatten]/outputs/28</title>\r\n",
       "<path fill=\"none\" stroke=\"#7c96bc\" d=\"M74.5831,-550.813C69.9414,-534.548 64,-509.361 64,-487 64,-487 64,-487 64,-256 64,-240.758 69.0251,-224.599 74.4766,-211.554\"/>\r\n",
       "<polygon fill=\"#7c96bc\" stroke=\"#7c96bc\" points=\"77.7501,-212.808 78.6523,-202.251 71.3639,-209.941 77.7501,-212.808\"/>\r\n",
       "<text text-anchor=\"middle\" x=\"99\" y=\"-369\" font-family=\"Verdana\" font-size=\"10.00\" fill=\"#202020\">1x18x222x222</text>\r\n",
       "</g>\r\n",
       "<!-- Sequential/Flatten[flatten]/outputs/21 -->\r\n",
       "<g id=\"node6\" class=\"node\"><title>Sequential/Flatten[flatten]/outputs/21</title>\r\n",
       "<polygon fill=\"#bcd6fc\" stroke=\"#7c96bc\" points=\"180,-504 118,-504 118,-468 180,-468 180,-504\"/>\r\n",
       "<text text-anchor=\"start\" x=\"126\" y=\"-483\" font-family=\"Verdana\" font-size=\"10.00\" fill=\"#202020\">Constant</text>\r\n",
       "</g>\r\n",
       "<!-- Sequential/Flatten[flatten]/outputs/23 -->\r\n",
       "<g id=\"node8\" class=\"node\"><title>Sequential/Flatten[flatten]/outputs/23</title>\r\n",
       "<polygon fill=\"#bcd6fc\" stroke=\"#7c96bc\" points=\"252,-431 198,-431 198,-395 252,-395 252,-431\"/>\r\n",
       "<text text-anchor=\"start\" x=\"208\" y=\"-410\" font-family=\"Verdana\" font-size=\"10.00\" fill=\"#202020\">Gather</text>\r\n",
       "</g>\r\n",
       "<!-- Sequential/Flatten[flatten]/outputs/21&#45;&gt;Sequential/Flatten[flatten]/outputs/23 -->\r\n",
       "<g id=\"edge8\" class=\"edge\"><title>Sequential/Flatten[flatten]/outputs/21&#45;&gt;Sequential/Flatten[flatten]/outputs/23</title>\r\n",
       "<path fill=\"none\" stroke=\"#7c96bc\" d=\"M167.397,-467.813C177.013,-458.83 188.934,-447.693 199.432,-437.886\"/>\r\n",
       "<polygon fill=\"#7c96bc\" stroke=\"#7c96bc\" points=\"201.854,-440.413 206.772,-431.029 197.075,-435.298 201.854,-440.413\"/>\r\n",
       "</g>\r\n",
       "<!-- Sequential/Flatten[flatten]/outputs/22&#45;&gt;Sequential/Flatten[flatten]/outputs/23 -->\r\n",
       "<g id=\"edge9\" class=\"edge\"><title>Sequential/Flatten[flatten]/outputs/22&#45;&gt;Sequential/Flatten[flatten]/outputs/23</title>\r\n",
       "<path fill=\"none\" stroke=\"#7c96bc\" d=\"M225,-467.813C225,-459.789 225,-450.047 225,-441.069\"/>\r\n",
       "<polygon fill=\"#7c96bc\" stroke=\"#7c96bc\" points=\"228.5,-441.029 225,-431.029 221.5,-441.029 228.5,-441.029\"/>\r\n",
       "</g>\r\n",
       "<!-- /outputs/25 -->\r\n",
       "<g id=\"node10\" class=\"node\"><title>/outputs/25</title>\r\n",
       "<polygon fill=\"#bcd6fc\" stroke=\"#7c96bc\" points=\"260,-348 190,-348 190,-312 260,-312 260,-348\"/>\r\n",
       "<text text-anchor=\"start\" x=\"198\" y=\"-327\" font-family=\"Verdana\" font-size=\"10.00\" fill=\"#202020\">Unsqueeze</text>\r\n",
       "</g>\r\n",
       "<!-- Sequential/Flatten[flatten]/outputs/23&#45;&gt;/outputs/25 -->\r\n",
       "<g id=\"edge10\" class=\"edge\"><title>Sequential/Flatten[flatten]/outputs/23&#45;&gt;/outputs/25</title>\r\n",
       "<path fill=\"none\" stroke=\"#7c96bc\" d=\"M225,-394.822C225,-384.19 225,-370.306 225,-358.204\"/>\r\n",
       "<polygon fill=\"#7c96bc\" stroke=\"#7c96bc\" points=\"228.5,-358.153 225,-348.153 221.5,-358.153 228.5,-358.153\"/>\r\n",
       "</g>\r\n",
       "<!-- Sequential/Flatten[flatten]/outputs/24 -->\r\n",
       "<g id=\"node9\" class=\"node\"><title>Sequential/Flatten[flatten]/outputs/24</title>\r\n",
       "<polygon fill=\"#bcd6fc\" stroke=\"#7c96bc\" points=\"180,-431 118,-431 118,-395 180,-395 180,-431\"/>\r\n",
       "<text text-anchor=\"start\" x=\"126\" y=\"-410\" font-family=\"Verdana\" font-size=\"10.00\" fill=\"#202020\">Constant</text>\r\n",
       "</g>\r\n",
       "<!-- /outputs/26 -->\r\n",
       "<g id=\"node11\" class=\"node\"><title>/outputs/26</title>\r\n",
       "<polygon fill=\"#bcd6fc\" stroke=\"#7c96bc\" points=\"172,-348 102,-348 102,-312 172,-312 172,-348\"/>\r\n",
       "<text text-anchor=\"start\" x=\"110\" y=\"-327\" font-family=\"Verdana\" font-size=\"10.00\" fill=\"#202020\">Unsqueeze</text>\r\n",
       "</g>\r\n",
       "<!-- Sequential/Flatten[flatten]/outputs/24&#45;&gt;/outputs/26 -->\r\n",
       "<g id=\"edge11\" class=\"edge\"><title>Sequential/Flatten[flatten]/outputs/24&#45;&gt;/outputs/26</title>\r\n",
       "<path fill=\"none\" stroke=\"#7c96bc\" d=\"M146.455,-394.822C144.88,-384.19 142.823,-370.306 141.03,-358.204\"/>\r\n",
       "<polygon fill=\"#7c96bc\" stroke=\"#7c96bc\" points=\"144.469,-357.532 139.541,-348.153 137.545,-358.558 144.469,-357.532\"/>\r\n",
       "</g>\r\n",
       "<!-- /outputs/27 -->\r\n",
       "<g id=\"node12\" class=\"node\"><title>/outputs/27</title>\r\n",
       "<polygon fill=\"#bcd6fc\" stroke=\"#7c96bc\" points=\"164,-275 110,-275 110,-239 164,-239 164,-275\"/>\r\n",
       "<text text-anchor=\"start\" x=\"119\" y=\"-254\" font-family=\"Verdana\" font-size=\"10.00\" fill=\"#202020\">Concat</text>\r\n",
       "</g>\r\n",
       "<!-- /outputs/25&#45;&gt;/outputs/27 -->\r\n",
       "<g id=\"edge12\" class=\"edge\"><title>/outputs/25&#45;&gt;/outputs/27</title>\r\n",
       "<path fill=\"none\" stroke=\"#7c96bc\" d=\"M203.698,-311.813C192.348,-302.656 178.224,-291.26 165.899,-281.316\"/>\r\n",
       "<polygon fill=\"#7c96bc\" stroke=\"#7c96bc\" points=\"168.087,-278.584 158.106,-275.029 163.691,-284.032 168.087,-278.584\"/>\r\n",
       "</g>\r\n",
       "<!-- /outputs/26&#45;&gt;/outputs/27 -->\r\n",
       "<g id=\"edge13\" class=\"edge\"><title>/outputs/26&#45;&gt;/outputs/27</title>\r\n",
       "<path fill=\"none\" stroke=\"#7c96bc\" d=\"M137,-311.813C137,-303.789 137,-294.047 137,-285.069\"/>\r\n",
       "<polygon fill=\"#7c96bc\" stroke=\"#7c96bc\" points=\"140.5,-285.029 137,-275.029 133.5,-285.029 140.5,-285.029\"/>\r\n",
       "</g>\r\n",
       "<!-- /outputs/27&#45;&gt;Sequential/Flatten[flatten]/outputs/28 -->\r\n",
       "<g id=\"edge14\" class=\"edge\"><title>/outputs/27&#45;&gt;Sequential/Flatten[flatten]/outputs/28</title>\r\n",
       "<path fill=\"none\" stroke=\"#7c96bc\" d=\"M125.138,-238.813C119.24,-230.266 111.996,-219.769 105.476,-210.323\"/>\r\n",
       "<polygon fill=\"#7c96bc\" stroke=\"#7c96bc\" points=\"108.313,-208.271 99.7523,-202.029 102.552,-212.247 108.313,-208.271\"/>\r\n",
       "</g>\r\n",
       "<!-- Sequential/Flatten[flatten]/outputs/29 -->\r\n",
       "<g id=\"node14\" class=\"node\"><title>Sequential/Flatten[flatten]/outputs/29</title>\r\n",
       "<polygon fill=\"#bcd6fc\" stroke=\"#7c96bc\" points=\"115,-119 61,-119 61,-83 115,-83 115,-119\"/>\r\n",
       "<text text-anchor=\"start\" x=\"73\" y=\"-98\" font-family=\"Verdana\" font-size=\"10.00\" fill=\"#202020\">Linear</text>\r\n",
       "</g>\r\n",
       "<!-- Sequential/Flatten[flatten]/outputs/28&#45;&gt;Sequential/Flatten[flatten]/outputs/29 -->\r\n",
       "<g id=\"edge15\" class=\"edge\"><title>Sequential/Flatten[flatten]/outputs/28&#45;&gt;Sequential/Flatten[flatten]/outputs/29</title>\r\n",
       "<path fill=\"none\" stroke=\"#7c96bc\" d=\"M88,-165.822C88,-155.19 88,-141.306 88,-129.204\"/>\r\n",
       "<polygon fill=\"#7c96bc\" stroke=\"#7c96bc\" points=\"91.5001,-129.153 88,-119.153 84.5001,-129.153 91.5001,-129.153\"/>\r\n",
       "<text text-anchor=\"middle\" x=\"112\" y=\"-140\" font-family=\"Verdana\" font-size=\"10.00\" fill=\"#202020\">1x887112</text>\r\n",
       "</g>\r\n",
       "<!-- Sequential/LogSoftmax[classifier]/outputs/30 -->\r\n",
       "<g id=\"node15\" class=\"node\"><title>Sequential/LogSoftmax[classifier]/outputs/30</title>\r\n",
       "<polygon fill=\"#bcd6fc\" stroke=\"#7c96bc\" points=\"125,-36 51,-36 51,-0 125,-0 125,-36\"/>\r\n",
       "<text text-anchor=\"start\" x=\"59\" y=\"-15\" font-family=\"Verdana\" font-size=\"10.00\" fill=\"#202020\">LogSoftmax</text>\r\n",
       "</g>\r\n",
       "<!-- Sequential/Flatten[flatten]/outputs/29&#45;&gt;Sequential/LogSoftmax[classifier]/outputs/30 -->\r\n",
       "<g id=\"edge16\" class=\"edge\"><title>Sequential/Flatten[flatten]/outputs/29&#45;&gt;Sequential/LogSoftmax[classifier]/outputs/30</title>\r\n",
       "<path fill=\"none\" stroke=\"#7c96bc\" d=\"M88,-82.822C88,-72.1903 88,-58.306 88,-46.2035\"/>\r\n",
       "<polygon fill=\"#7c96bc\" stroke=\"#7c96bc\" points=\"91.5001,-46.1532 88,-36.1533 84.5001,-46.1533 91.5001,-46.1532\"/>\r\n",
       "<text text-anchor=\"middle\" x=\"100\" y=\"-57\" font-family=\"Verdana\" font-size=\"10.00\" fill=\"#202020\">1x10</text>\r\n",
       "</g>\r\n",
       "</g>\r\n",
       "</svg>\r\n"
      ],
      "text/plain": [
       "<hiddenlayer.graph.Graph at 0x7b2df79d68>"
      ]
     },
     "execution_count": 122,
     "metadata": {},
     "output_type": "execute_result"
    }
   ],
   "source": [
    "hl_graph = hl.build_graph(net2,model_fakeData)\n",
    "hl_graph.theme = hl.graph.THEMES[\"blue\"]\n",
    "hl_graph"
   ]
  },
  {
   "cell_type": "code",
   "execution_count": 159,
   "metadata": {},
   "outputs": [],
   "source": [
    "learn2 = Learner(data, net2, loss_func=loss_func, metrics=error_rate)"
   ]
  },
  {
   "cell_type": "markdown",
   "metadata": {},
   "source": [
    "# Agora Vamos Explorar Embeddings!!"
   ]
  },
  {
   "cell_type": "code",
   "execution_count": null,
   "metadata": {
    "collapsed": true
   },
   "outputs": [],
   "source": []
  }
 ],
 "metadata": {
  "kernelspec": {
   "display_name": "fastai v1",
   "language": "python",
   "name": "fastai_v1"
  },
  "language_info": {
   "codemirror_mode": {
    "name": "ipython",
    "version": 3
   },
   "file_extension": ".py",
   "mimetype": "text/x-python",
   "name": "python",
   "nbconvert_exporter": "python",
   "pygments_lexer": "ipython3",
   "version": "3.6.8"
  }
 },
 "nbformat": 4,
 "nbformat_minor": 2
}
